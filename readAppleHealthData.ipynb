{
 "cells": [
  {
   "cell_type": "code",
   "execution_count": 37,
   "id": "a103ce78",
   "metadata": {},
   "outputs": [
    {
     "name": "stdout",
     "output_type": "stream",
     "text": [
      "\u001b[33mDEPRECATION: Configuring installation scheme with distutils config files is deprecated and will no longer work in the near future. If you are using a Homebrew or Linuxbrew Python, please see discussion at https://github.com/Homebrew/homebrew-core/issues/76621\u001b[0m\u001b[33m\n",
      "\u001b[0mRequirement already satisfied: apple-health-exporter in /opt/homebrew/lib/python3.9/site-packages (1.0.2)\n",
      "Requirement already satisfied: lxml<5.0.0,>=4.8.0 in /opt/homebrew/lib/python3.9/site-packages (from apple-health-exporter) (4.8.0)\n",
      "Requirement already satisfied: pyarrow<8.0.0,>=7.0.0 in /opt/homebrew/lib/python3.9/site-packages (from apple-health-exporter) (7.0.0)\n",
      "Requirement already satisfied: pandas<2.0.0,>=1.4.1 in /opt/homebrew/lib/python3.9/site-packages (from apple-health-exporter) (1.4.2)\n",
      "Requirement already satisfied: python-dateutil>=2.8.1 in /opt/homebrew/lib/python3.9/site-packages (from pandas<2.0.0,>=1.4.1->apple-health-exporter) (2.8.2)\n",
      "Requirement already satisfied: numpy>=1.20.0 in /opt/homebrew/lib/python3.9/site-packages (from pandas<2.0.0,>=1.4.1->apple-health-exporter) (1.22.3)\n",
      "Requirement already satisfied: pytz>=2020.1 in /opt/homebrew/lib/python3.9/site-packages (from pandas<2.0.0,>=1.4.1->apple-health-exporter) (2022.1)\n",
      "Requirement already satisfied: six>=1.5 in /opt/homebrew/lib/python3.9/site-packages (from python-dateutil>=2.8.1->pandas<2.0.0,>=1.4.1->apple-health-exporter) (1.16.0)\n",
      "\u001b[33mDEPRECATION: Configuring installation scheme with distutils config files is deprecated and will no longer work in the near future. If you are using a Homebrew or Linuxbrew Python, please see discussion at https://github.com/Homebrew/homebrew-core/issues/76621\u001b[0m\u001b[33m\n",
      "\u001b[0m"
     ]
    }
   ],
   "source": [
    "!pip install apple-health-exporter"
   ]
  },
  {
   "cell_type": "code",
   "execution_count": null,
   "id": "92579e55",
   "metadata": {},
   "outputs": [],
   "source": [
    "# Translates zipped apple health data into a feather file\n",
    "!python3 -m apple_health_exporter export.zip data.feather"
   ]
  },
  {
   "cell_type": "code",
   "execution_count": null,
   "id": "2cd75a44",
   "metadata": {},
   "outputs": [],
   "source": [
    "import pandas as pd\n",
    "import matplotlib.pyplot as plt\n",
    "import matplotlib\n",
    "import re\n",
    "import numpy as np"
   ]
  },
  {
   "cell_type": "code",
   "execution_count": null,
   "id": "48ba6f2e",
   "metadata": {},
   "outputs": [],
   "source": [
    "def camelCaseSplit(s):\n",
    "    return re.findall(r'[A-Z](?:[a-z]+|[A-Z]*(?=[A-Z]|$))', s)"
   ]
  },
  {
   "cell_type": "code",
   "execution_count": null,
   "id": "df38ff05",
   "metadata": {},
   "outputs": [],
   "source": [
    "# Fixes font size for graphs\n",
    "font = {'weight' : 'bold',\n",
    "        'size'   : 6}\n",
    "\n",
    "matplotlib.rc('font', **font)"
   ]
  },
  {
   "cell_type": "code",
   "execution_count": null,
   "id": "8fe08d26",
   "metadata": {},
   "outputs": [],
   "source": [
    "data = pd.read_feather('data.feather')"
   ]
  },
  {
   "cell_type": "code",
   "execution_count": null,
   "id": "febd6b7d",
   "metadata": {},
   "outputs": [],
   "source": [
    "# Finds all the categories in data.feather\n",
    "categories = []\n",
    "indexes = []\n",
    "for category in range(len(data)):\n",
    "    if data.iloc[category][0] not in categories:\n",
    "        categories.append(data.iloc[category][0])\n",
    "        indexes.append([data.iloc[category][0], category])"
   ]
  },
  {
   "cell_type": "code",
   "execution_count": null,
   "id": "d1270540-b9f9-408b-b0f6-494d71629c14",
   "metadata": {},
   "outputs": [],
   "source": [
    "def createPlot(index):\n",
    "    \n",
    "    # Sets up graph configs\n",
    "    fig = plt.figure()\n",
    "    fig.set_dpi(150)\n",
    "    axis1 = fig.add_subplot()\n",
    "    ylabel = indexes[index][0]\n",
    "    ylabel = ylabel.replace('HKQuantityTypeIdentifier', '')\n",
    "    ylabel = ' '.join(camelCaseSplit(ylabel))\n",
    "    axis1.set_ylabel(ylabel)\n",
    "    axis1.set_xlabel('Date')\n",
    "    axis1.set_title('Plotted')\n",
    "    \n",
    "    # Assigns proper value arrays to dateData & valueData\n",
    "    dateData = data.iloc[indexes[index][1]:indexes[index+1][1]]['startDate']\n",
    "    valueData = data.iloc[indexes[index][1]:indexes[index+1][1]]['value']\n",
    "    axis1.scatter(dateData, valueData, s=2)\n",
    "    \n",
    "    plt.show()"
   ]
  },
  {
   "cell_type": "code",
   "execution_count": null,
   "id": "44b24dcd",
   "metadata": {},
   "outputs": [],
   "source": [
    "# Iterates through data and plots each category\n",
    "for i in range(len(indexes)-1):\n",
    "    createPlot(i)"
   ]
  },
  {
   "cell_type": "code",
   "execution_count": null,
   "id": "034cb684-6349-4bb9-b312-062fcba15634",
   "metadata": {},
   "outputs": [],
   "source": []
  }
 ],
 "metadata": {
  "kernelspec": {
   "display_name": "Python 3 (ipykernel)",
   "language": "python",
   "name": "python3"
  },
  "language_info": {
   "codemirror_mode": {
    "name": "ipython",
    "version": 3
   },
   "file_extension": ".py",
   "mimetype": "text/x-python",
   "name": "python",
   "nbconvert_exporter": "python",
   "pygments_lexer": "ipython3",
   "version": "3.9.12"
  }
 },
 "nbformat": 4,
 "nbformat_minor": 5
}
